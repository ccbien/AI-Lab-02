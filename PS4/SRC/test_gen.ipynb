{
 "cells": [
  {
   "cell_type": "code",
   "execution_count": 1,
   "metadata": {},
   "outputs": [],
   "source": [
    "import os\n",
    "from random import randint\n",
    "from clause import Clause"
   ]
  },
  {
   "cell_type": "code",
   "execution_count": 2,
   "metadata": {},
   "outputs": [],
   "source": [
    "def PL_Resolution(clauses):\n",
    "    clause_set = set(clauses)\n",
    "    new_set = set()\n",
    "\n",
    "    while True:\n",
    "        clauses = list(clause_set)\n",
    "        for i in range(len(clauses)):\n",
    "            for j in range(i + 1, len(clauses)):\n",
    "                resolvent = Clause.resolve(clauses[i], clauses[j]) # Hop giai\n",
    "                if resolvent is None or resolvent in new_set or resolvent in clause_set:\n",
    "                    continue \n",
    "                if resolvent.is_empty(): \n",
    "                    return False\n",
    "                new_set.add(resolvent)\n",
    "\n",
    "        if new_set.issubset(clause_set):\n",
    "            return True\n",
    "\n",
    "        clause_set = clause_set.union(new_set)"
   ]
  },
  {
   "cell_type": "code",
   "execution_count": 3,
   "metadata": {},
   "outputs": [],
   "source": [
    "def generate_clauses(n, chs):\n",
    "    assert n < 3 ** len(chs)\n",
    "    codes = list(range(1, 10))\n",
    "\n",
    "    while True:\n",
    "        clauses = set()\n",
    "        while len(clauses) < n:\n",
    "            kwargs = {}\n",
    "            for ch in chs:\n",
    "                kwargs[ch] = randint(-1, 1)\n",
    "            clause = Clause(**kwargs)\n",
    "            if clause.to_string() != '{}':\n",
    "                clauses.add(clause)\n",
    "        if PL_Resolution(clauses):\n",
    "            return clauses"
   ]
  },
  {
   "cell_type": "code",
   "execution_count": 15,
   "metadata": {},
   "outputs": [],
   "source": [
    "def generate_input(n, chs, filename):\n",
    "    alpha = generate_clauses(1, chs)[0]\n",
    "    clauses = generate_clauses(n, chs)\n",
    "\n",
    "    with open('./input/' + filename, 'w') as f:\n",
    "        f.write(alpha.to_string())\n",
    "        f.write('\\n')\n",
    "        f.write(str(n))\n",
    "        for clause in clauses:\n",
    "            f.write(clause.to_string())\n",
    "            f.write('\\n')\n",
    "            "
   ]
  },
  {
   "cell_type": "code",
   "execution_count": 16,
   "metadata": {},
   "outputs": [
    {
     "name": "stdout",
     "output_type": "stream",
     "text": [
      "B OR C\n",
      "A\n",
      "-A OR -B\n",
      "A OR -B OR C\n",
      "-A OR -B OR -C\n"
     ]
    }
   ],
   "source": []
  }
 ],
 "metadata": {
  "interpreter": {
   "hash": "d28c92c8d268e528f559a9108982bcbc1de56b75d58998801f49ec27e7c1e813"
  },
  "kernelspec": {
   "display_name": "Python 3.8.8 64-bit ('base': conda)",
   "language": "python",
   "name": "python3"
  },
  "language_info": {
   "codemirror_mode": {
    "name": "ipython",
    "version": 3
   },
   "file_extension": ".py",
   "mimetype": "text/x-python",
   "name": "python",
   "nbconvert_exporter": "python",
   "pygments_lexer": "ipython3",
   "version": "3.8.8"
  },
  "orig_nbformat": 4
 },
 "nbformat": 4,
 "nbformat_minor": 2
}
